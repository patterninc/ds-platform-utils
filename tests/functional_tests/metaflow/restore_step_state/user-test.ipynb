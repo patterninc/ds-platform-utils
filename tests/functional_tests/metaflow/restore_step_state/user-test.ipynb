{
 "cells": [
  {
   "cell_type": "markdown",
   "id": "f6025fa1",
   "metadata": {},
   "source": [
    "### Step 1 - Run a flow (`restore_state_test_flow.py`)\n",
    "\n",
    "This flow is the `ds-projen` sample flow with some minor changes, so it is pretty representative of our production flows.\n",
    "\n",
    "It:\n",
    "\n",
    "1. executes SQL queries in Snowflake using the `publich()` function\n",
    "2. accesses a secret (`outerbounds.brain-api-pattern-nlp`)--which is used to hit the Brain API via our internal Brain SDK"
   ]
  },
  {
   "cell_type": "code",
   "execution_count": 3,
   "id": "e509ba68",
   "metadata": {},
   "outputs": [
    {
     "name": "stdout",
     "output_type": "stream",
     "text": [
      "\n",
      "=== Metaflow Output ===\n",
      "/Users/ericriddoch/repos/ds-platform-utils/.venv/lib/python3.9/site-packages/snowflake/connector/options.py:104: UserWarning: You have an incompatible version of 'pyarrow' installed (21.0.0), please install a version that adheres to: 'pyarrow<19.0.0; extra == \"pandas\"'\n",
      "  warn_incompatible_dep(\n",
      "Metaflow 2.15.21.3+obcheckpoint(0.2.4);ob(v1) executing TestRestoreFlowState for user:eric.riddoch@pattern.com\n",
      "Project: example, Branch: user.eric.riddoch@pattern.com\n",
      "Validating your flow...\n",
      "    The graph looks good!\n",
      "Running pylint...\n",
      "    Pylint is happy!\n",
      "Bootstrapping virtual environment(s) ...\n",
      "Virtual environment(s) bootstrapped!\n",
      "2025-07-23 19:27:19.741 Workflow starting (run-id 20704), see it in the UI at https://ui.pattern.obp.outerbounds.com/p/default/TestRestoreFlowState/20704\n",
      "2025-07-23 19:27:21.996 [20704/start/494578 (pid 76924)] Task is starting.\n",
      "2025-07-23 19:27:23.093 [20704/start/494578 (pid 76924)] /Users/ericriddoch/micromamba/envs/metaflow/osx-arm64/4c7dd6a9ab86dd7/lib/python3.10/site-packages/snowflake/connector/options.py:104: UserWarning: You have an incompatible version of 'pyarrow' installed (20.0.0), please install a version that adheres to: 'pyarrow<19.0.0; extra == \"pandas\"'\n",
      "2025-07-23 19:27:24.662 [20704/start/494578 (pid 76924)] self.config.n_rows=10\n",
      "2025-07-23 19:27:30.543 [20704/start/494578 (pid 76924)] warn_incompatible_dep(\n",
      "2025-07-23 19:27:31.065 [20704/start/494578 (pid 76924)] Task finished successfully.\n",
      "2025-07-23 19:27:31.642 [20704/execute_sql/494579 (pid 77004)] Task is starting.\n",
      "2025-07-23 19:27:32.218 [20704/execute_sql/494579 (pid 77004)] /Users/ericriddoch/micromamba/envs/metaflow/osx-arm64/4c7dd6a9ab86dd7/lib/python3.10/site-packages/snowflake/connector/options.py:104: UserWarning: You have an incompatible version of 'pyarrow' installed (20.0.0), please install a version that adheres to: 'pyarrow<19.0.0; extra == \"pandas\"'\n",
      "2025-07-23 19:27:34.681 [20704/execute_sql/494579 (pid 77004)] \n",
      "2025-07-23 19:27:35.090 [20704/execute_sql/494579 (pid 77004)] === DEBUG SQL QUERY ===\n",
      "2025-07-23 19:27:35.090 [20704/execute_sql/494579 (pid 77004)] ALTER SESSION SET TIMEZONE = 'UTC';\n",
      "2025-07-23 19:27:35.090 [20704/execute_sql/494579 (pid 77004)] ALTER SESSION SET QUERY_TAG = 'example';\n",
      "2025-07-23 19:27:35.090 [20704/execute_sql/494579 (pid 77004)] =====================\n",
      "2025-07-23 19:27:35.091 [20704/execute_sql/494579 (pid 77004)] \n",
      "2025-07-23 19:27:35.091 [20704/execute_sql/494579 (pid 77004)] write\n",
      "2025-07-23 19:27:35.097 [20704/execute_sql/494579 (pid 77004)] \n",
      "2025-07-23 19:27:43.168 [20704/execute_sql/494579 (pid 77004)] warn_incompatible_dep(\n",
      "2025-07-23 19:27:43.168 [20704/execute_sql/494579 (pid 77004)] === DEBUG SQL QUERY ===\n",
      "2025-07-23 19:27:43.168 [20704/execute_sql/494579 (pid 77004)] -- Create a test table\n",
      "2025-07-23 19:27:43.168 [20704/execute_sql/494579 (pid 77004)] CREATE OR REPLACE TABLE PATTERN_DB.DATA_SCIENCE_STAGE.test_delete_me (\n",
      "2025-07-23 19:27:43.168 [20704/execute_sql/494579 (pid 77004)] id INT,\n",
      "2025-07-23 19:27:43.168 [20704/execute_sql/494579 (pid 77004)] message STRING\n",
      "2025-07-23 19:27:43.168 [20704/execute_sql/494579 (pid 77004)] );\n",
      "2025-07-23 19:27:43.168 [20704/execute_sql/494579 (pid 77004)] \n",
      "2025-07-23 19:27:43.169 [20704/execute_sql/494579 (pid 77004)] -- Insert a test row\n",
      "2025-07-23 19:27:43.169 [20704/execute_sql/494579 (pid 77004)] INSERT INTO PATTERN_DB.DATA_SCIENCE_STAGE.test_delete_me (id, message)\n",
      "2025-07-23 19:27:43.169 [20704/execute_sql/494579 (pid 77004)] VALUES (1, 'Hello from Snowflake!');\n",
      "2025-07-23 19:27:43.169 [20704/execute_sql/494579 (pid 77004)] \n",
      "2025-07-23 19:27:43.169 [20704/execute_sql/494579 (pid 77004)] -- Read the row\n",
      "2025-07-23 19:27:43.169 [20704/execute_sql/494579 (pid 77004)] SELECT * FROM PATTERN_DB.DATA_SCIENCE_STAGE.test_delete_me;\n",
      "2025-07-23 19:27:43.169 [20704/execute_sql/494579 (pid 77004)] =====================\n",
      "2025-07-23 19:27:43.169 [20704/execute_sql/494579 (pid 77004)] \n",
      "2025-07-23 19:27:43.755 [20704/execute_sql/494579 (pid 77004)] Task finished successfully.\n",
      "2025-07-23 19:27:44.348 [20704/query_and_publish_pandas/494580 (pid 77129)] Task is starting.\n",
      "2025-07-23 19:27:44.883 [20704/query_and_publish_pandas/494580 (pid 77129)] /Users/ericriddoch/micromamba/envs/metaflow/osx-arm64/4c7dd6a9ab86dd7/lib/python3.10/site-packages/snowflake/connector/options.py:104: UserWarning: You have an incompatible version of 'pyarrow' installed (20.0.0), please install a version that adheres to: 'pyarrow<19.0.0; extra == \"pandas\"'\n",
      "2025-07-23 19:27:47.782 [20704/query_and_publish_pandas/494580 (pid 77129)] Retrieved 1 rows from Snowflake\n",
      "2025-07-23 19:27:58.360 [20704/query_and_publish_pandas/494580 (pid 77129)] warn_incompatible_dep(\n",
      "2025-07-23 19:27:58.943 [20704/query_and_publish_pandas/494580 (pid 77129)] Task finished successfully.\n",
      "2025-07-23 19:27:59.559 [20704/end/494581 (pid 77248)] Task is starting.\n",
      "2025-07-23 19:28:00.136 [20704/end/494581 (pid 77248)] /Users/ericriddoch/micromamba/envs/metaflow/osx-arm64/4c7dd6a9ab86dd7/lib/python3.10/site-packages/snowflake/connector/options.py:104: UserWarning: You have an incompatible version of 'pyarrow' installed (20.0.0), please install a version that adheres to: 'pyarrow<19.0.0; extra == \"pandas\"'\n",
      "2025-07-23 19:28:07.751 [20704/end/494581 (pid 77248)] warn_incompatible_dep(\n",
      "2025-07-23 19:28:08.282 [20704/end/494581 (pid 77248)] Task finished successfully.\n",
      "2025-07-23 19:28:08.503 Done! See the run in the UI at https://ui.pattern.obp.outerbounds.com/p/default/TestRestoreFlowState/20704\n"
     ]
    }
   ],
   "source": [
    "import subprocess\n",
    "import sys\n",
    "import uuid\n",
    "\n",
    "\n",
    "def execute_with_output(cmd):\n",
    "    \"\"\"Execute a command and yield output lines as they are produced.\"\"\"\n",
    "    process = subprocess.Popen(\n",
    "        cmd,\n",
    "        stdout=subprocess.PIPE,\n",
    "        stderr=subprocess.STDOUT,  # Merge stderr into stdout\n",
    "        universal_newlines=True,\n",
    "        bufsize=1,\n",
    "    )\n",
    "\n",
    "    for line in iter(process.stdout.readline, \"\"):\n",
    "        yield line\n",
    "\n",
    "    process.stdout.close()\n",
    "    return_code = process.wait()\n",
    "    if return_code:\n",
    "        raise subprocess.CalledProcessError(return_code, cmd)\n",
    "\n",
    "\n",
    "cmd = [\n",
    "    sys.executable,\n",
    "    \"restore_state_test_flow.py\",\n",
    "    \"--environment=fast-bakery\",\n",
    "    \"--with=card\",\n",
    "    \"run\",\n",
    "    f\"--random_param={uuid.uuid4()}\",\n",
    "]\n",
    "\n",
    "print(\"\\n=== Metaflow Output ===\")\n",
    "for line in execute_with_output(cmd):\n",
    "    print(line, end=\"\")"
   ]
  },
  {
   "cell_type": "markdown",
   "id": "8a1a261c",
   "metadata": {},
   "source": [
    "### Step 2 - Restore the state\n",
    "\n",
    "✨ These are loaded automatically\n",
    "\n",
    "1. Flow parameters\n",
    "2. Flow configs\n",
    "3. Flow attributes/artifacts, i.e. `self.df`\n",
    "\n",
    "✨ The `current` singleton, i.e. `from metaflow import current` is mocked so the `publish()` function will work automatically.\n",
    "\n",
    "✨ Optionally, you can specify `secrets=[...]` to export to the environment as well, equivalent to the `@secrets` decorator.\n",
    "\n",
    "✨ Autocompletion is available in your editor for ALL attributes of `self.`. Even the ones specific to your flow, e.g. `self.config.n_rows`, `self.df`, etc."
   ]
  },
  {
   "cell_type": "code",
   "execution_count": null,
   "id": "d1dddd00",
   "metadata": {},
   "outputs": [
    {
     "name": "stdout",
     "output_type": "stream",
     "text": [
      "self.config={'n_rows': 10, 'table_name': 'test_delete_me'}\n",
      "self.config.n_rows=10\n",
      "self.random_param='a972246f-9183-498e-9650-56c7f042b53e'\n",
      "   id                                          message\n",
      "0   1  Hello from Snowflake! - Processed from Metaflow\n"
     ]
    }
   ],
   "source": [
    "import os\n",
    "\n",
    "from restore_state_test_flow import TestRestoreFlowState\n",
    "\n",
    "from ds_platform_utils.metaflow import restore_step_state\n",
    "\n",
    "self = restore_step_state(TestRestoreFlowState, secrets=[\"outerbounds.brain-api-pattern-nlp\"])\n",
    "\n",
    "print(f\"{self.config=}\")\n",
    "print(f\"{self.config.n_rows=}\")\n",
    "print(f\"{self.random_param=}\")\n",
    "print(self.df)\n",
    "\n",
    "assert \"BRAIN_API_KEY\" in os.environ.keys()"
   ]
  },
  {
   "cell_type": "markdown",
   "id": "f663eb3a",
   "metadata": {},
   "source": [
    "### Step 3 - Copy/paste step code and iterate!\n",
    "\n",
    "The following is code copies directly from one of the `@step`-decorated functions in the flow."
   ]
  },
  {
   "cell_type": "code",
   "execution_count": 2,
   "id": "3b086924",
   "metadata": {},
   "outputs": [
    {
     "name": "stdout",
     "output_type": "stream",
     "text": [
      "\n",
      "=== DEBUG SQL QUERY ===\n",
      "ALTER SESSION SET TIMEZONE = 'UTC';\n",
      "ALTER SESSION SET QUERY_TAG = 'project_name not implemented';\n",
      "=====================\n",
      "\n",
      "\n",
      "=== DEBUG SQL QUERY ===\n",
      "-- Create a test table\n",
      "CREATE OR REPLACE TABLE PATTERN_DB.DATA_SCIENCE_STAGE.test_delete_me (\n",
      "    id INT,\n",
      "    message STRING\n",
      ");\n",
      "\n",
      "-- Insert a test row\n",
      "INSERT INTO PATTERN_DB.DATA_SCIENCE_STAGE.test_delete_me (id, message)\n",
      "VALUES (1, 'Hello from Snowflake!');\n",
      "\n",
      "-- Read the row\n",
      "SELECT * FROM PATTERN_DB.DATA_SCIENCE_STAGE.test_delete_me;\n",
      "=====================\n",
      "\n"
     ]
    }
   ],
   "source": [
    "import os\n",
    "from textwrap import dedent\n",
    "\n",
    "from ds_platform_utils.metaflow import publish\n",
    "\n",
    "os.environ[\"DEBUG_QUERY\"] = \"1\"\n",
    "\n",
    "publish(\n",
    "    table_name=self.config.table_name,\n",
    "    query=dedent(\"\"\"\\\n",
    "    -- Create a test table\n",
    "    CREATE OR REPLACE TABLE PATTERN_DB.{{schema}}.{{table_name}} (\n",
    "        id INT,\n",
    "        message STRING\n",
    "    );\n",
    "\n",
    "    -- Insert a test row\n",
    "    INSERT INTO PATTERN_DB.{{schema}}.{{table_name}} (id, message)\n",
    "    VALUES (1, 'Hello from Snowflake!');\n",
    "\n",
    "    -- Read the row\n",
    "    SELECT * FROM PATTERN_DB.{{schema}}.{{table_name}};\n",
    "    \"\"\"),\n",
    ")"
   ]
  }
 ],
 "metadata": {
  "kernelspec": {
   "display_name": "ds-platform-utils",
   "language": "python",
   "name": "python3"
  },
  "language_info": {
   "codemirror_mode": {
    "name": "ipython",
    "version": 3
   },
   "file_extension": ".py",
   "mimetype": "text/x-python",
   "name": "python",
   "nbconvert_exporter": "python",
   "pygments_lexer": "ipython3",
   "version": "3.9.6"
  }
 },
 "nbformat": 4,
 "nbformat_minor": 5
}
